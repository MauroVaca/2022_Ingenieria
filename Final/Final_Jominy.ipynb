{
 "cells": [
  {
   "cell_type": "code",
   "execution_count": 1,
   "id": "c143fae5-3dab-414a-a41f-da1a0527d326",
   "metadata": {},
   "outputs": [],
   "source": [
    "# Importo las librerías Necesarias \n",
    "import numpy as np # Importo algebra Lineal\n",
    "import matplotlib.pyplot as plt # Importo librería de gráficos\n",
    "import math\n",
    "import gmsh #Importo gmsh\n",
    "from scipy import linalg\n",
    "plt.rc('figure', figsize=(10,5))   # Para gráficos\n",
    "plt.rc('font', size=15)             # Para gráficos"
   ]
  },
  {
   "cell_type": "markdown",
   "id": "431325d1-9dbe-4424-a2a3-f248f9f23e73",
   "metadata": {},
   "source": [
    "### Desarrollo"
   ]
  },
  {
   "cell_type": "markdown",
   "id": "d500bc30-da3f-4418-abeb-c1e015554e34",
   "metadata": {},
   "source": [
    "#### Armo modelo"
   ]
  },
  {
   "cell_type": "code",
   "execution_count": 2,
   "id": "b19be725-e0df-4f0c-bb57-f2291d73e1ea",
   "metadata": {},
   "outputs": [],
   "source": [
    "gmsh.initialize() # Inicio el gmsh"
   ]
  },
  {
   "cell_type": "code",
   "execution_count": 3,
   "id": "8752ab9c-cd2b-47aa-9d43-b45e89871907",
   "metadata": {},
   "outputs": [],
   "source": [
    "gmsh.model.add('Final') # Nombro el modelo"
   ]
  },
  {
   "cell_type": "code",
   "execution_count": 4,
   "id": "9dcfcff6-c407-40e6-9416-ffa459e0cbe2",
   "metadata": {},
   "outputs": [],
   "source": [
    "#Datos\n",
    "\n",
    "L = 0.1 #m\n",
    "rmax = 0.032 #m\n",
    "rmin = 0.025 #m\n",
    "pestaña = 0.003 #m\n",
    "Conduc = 187.25 #W/m°C Conductividad\n",
    "Cesp = 477 #J/kg°C  Calor especifico\n",
    "Densidad = 7850 #kg/m^3  Densidad del acero\n",
    "Espesor = 0.0001 #m\n",
    "Tprob = 900 #°C Temperatura de la probeta a la salida del horno\n",
    "Ttemple = 25 #°C Temperatura del agua de temple\n",
    "\n",
    "#Densidad de triangulos en el modelo\n",
    "lc = 0.002 #0.001"
   ]
  },
  {
   "cell_type": "code",
   "execution_count": 5,
   "id": "7bf1b0a1-8fcf-407a-89f0-fdec0ab4e88d",
   "metadata": {},
   "outputs": [],
   "source": [
    "# Definimos las coordenadas de los puntos\n",
    "\n",
    "p1 = gmsh.model.geo.addPoint(       0,      0, 0, lc)\n",
    "p2 = gmsh.model.geo.addPoint(       0, rmax/2, 0, lc)\n",
    "p3 = gmsh.model.geo.addPoint( pestaña, rmax/2, 0, lc)\n",
    "p4 = gmsh.model.geo.addPoint( pestaña, rmin/2, 0, lc)\n",
    "p5 = gmsh.model.geo.addPoint(       L, rmin/2, 0, lc)\n",
    "p6 = gmsh.model.geo.addPoint(       L,      0, 0, lc)"
   ]
  },
  {
   "cell_type": "code",
   "execution_count": 6,
   "id": "66985915-d855-44cb-a124-a47d20030dfb",
   "metadata": {},
   "outputs": [],
   "source": [
    "# Definimos las lineas\n",
    "\n",
    "l1 = gmsh.model.geo.addLine(p1, p2)\n",
    "l2 = gmsh.model.geo.addLine(p2, p3)\n",
    "l3 = gmsh.model.geo.addLine(p3, p4)\n",
    "l4 = gmsh.model.geo.addLine(p4, p5)\n",
    "l5 = gmsh.model.geo.addLine(p5, p6)\n",
    "l6 = gmsh.model.geo.addLine(p6, p1)"
   ]
  },
  {
   "cell_type": "code",
   "execution_count": 7,
   "id": "c18fc437-4e1f-48b7-8fff-bb5028eb27d6",
   "metadata": {},
   "outputs": [],
   "source": [
    "# Las curvas nos van a servir para definir los bordes de nuestro modelo\n",
    "C1 = gmsh.model.geo.addCurveLoop([l1, l2, l3, l4, l5, l6])\n",
    "\n",
    "# y la superficie\n",
    "S1 = gmsh.model.geo.addPlaneSurface([C1])"
   ]
  },
  {
   "cell_type": "code",
   "execution_count": 8,
   "id": "1fa59f53-cf1f-40ba-8a79-7bd4b841f1ee",
   "metadata": {},
   "outputs": [],
   "source": [
    "gmsh.model.geo.synchronize()"
   ]
  },
  {
   "cell_type": "code",
   "execution_count": 9,
   "id": "33a5384c-0617-4aa8-a346-b70bddc6e81f",
   "metadata": {},
   "outputs": [],
   "source": [
    "# Defino los grupos fisicos\n",
    "Templado=gmsh.model.addPhysicalGroup(1,[l5])\n",
    "gmsh.model.setPhysicalName(1, Templado, 'Templado')\n",
    "\n",
    "Superficie = gmsh.model.addPhysicalGroup(2,[S1])\n",
    "gmsh.model.setPhysicalName(2,Superficie, 'Superficie')\n",
    "gmsh.model.mesh.generate(2)"
   ]
  },
  {
   "cell_type": "code",
   "execution_count": 10,
   "id": "92751564-426c-4411-9d1e-662806e439a1",
   "metadata": {},
   "outputs": [],
   "source": [
    "# Generamos el mallado\n",
    "gmsh.model.mesh.generate(2) # el 2 indica la dimensión"
   ]
  },
  {
   "cell_type": "code",
   "execution_count": 11,
   "id": "e71d6286-03b7-4e0d-899c-8d4f5beea610",
   "metadata": {},
   "outputs": [],
   "source": [
    "# Vista del mallado\n",
    "gmsh.fltk.run()"
   ]
  },
  {
   "cell_type": "markdown",
   "id": "c6683f6a-374c-499f-9e1c-1f226a013fd0",
   "metadata": {},
   "source": [
    "#### Selección de datos"
   ]
  },
  {
   "cell_type": "code",
   "execution_count": 12,
   "id": "26542e33-a732-423e-b97e-be4c673cdc32",
   "metadata": {},
   "outputs": [],
   "source": [
    "# Obtengo información sobre los nodos del mallado\n",
    "\n",
    "NodeInfo = gmsh.model.mesh.get_nodes() # Información de los nodos\n",
    "n_nodos = NodeInfo[0].shape[0] # Cantidad de nodos\n",
    "MN = NodeInfo[1].reshape(n_nodos, 3) # Matriz de nodos (con eje Z)"
   ]
  },
  {
   "cell_type": "code",
   "execution_count": 13,
   "id": "d903deca-3204-4549-b10e-e01c27f76279",
   "metadata": {},
   "outputs": [],
   "source": [
    "# Obtengo información sobre los elementos del mallado\n",
    "\n",
    "E_etiq, Elementos = gmsh.model.mesh.get_elements_by_type(2) #El 2 es por elementos del tipo 2 (superficiales)\n",
    "n_element = E_etiq.shape[0] # Cantidad de elementos\n",
    "n_nxe = 3 #Número de nodos por elemento\n",
    "MC = Elementos.reshape(n_element, n_nxe) # Matriz de conectividad\n",
    "MC = MC - np.ones([n_element, n_nxe]) # Resto 1 para acomodar a lenguaje PYTHON.\n",
    "MC = MC.astype(int) # Los cambio a dato tipo integer"
   ]
  },
  {
   "cell_type": "markdown",
   "id": "9ab68414-d153-4787-935b-7cf8050d31e5",
   "metadata": {},
   "source": [
    "#### Armado de matrices"
   ]
  },
  {
   "cell_type": "code",
   "execution_count": 14,
   "id": "ee548482-c304-4ed4-9b85-7ae64cc3cb02",
   "metadata": {},
   "outputs": [],
   "source": [
    "Ke = np.zeros((n_nxe, n_nxe)) # Matriz de rigidez elemental\n",
    "Kg = np.zeros([len(MN), len(MN)]) # Matriz de rigidez global\n",
    "Ce = np.array([[2, 1, 1], # Matriz de capacitancia elemental\n",
    "               [1, 2, 1],\n",
    "               [1, 1, 2]]) \n",
    "Cg = np.zeros([len(MN), len(MN)]) # Matriz de capacitancia global\n",
    "for i in range(len(MC)):\n",
    "    \n",
    "    # Calculo matriz A\n",
    "    Xi = MN[MC[i, 0], 0]\n",
    "    Yi = MN[MC[i, 0], 1]\n",
    "    Xj = MN[MC[i, 1], 0]\n",
    "    Yj = MN[MC[i, 1], 1]\n",
    "    Xk = MN[MC[i, 2], 0]\n",
    "    Yk = MN[MC[i, 2], 1]\n",
    "    A = np.abs((1/2)*np.linalg.det([[1, Xi, Yi],\n",
    "                                    [1, Xj, Yj],\n",
    "                                    [1, Xk, Yk]]))\n",
    "    \n",
    "    # Calculo Ke\n",
    "    Ke[0, 0] = (Yj-Yk)**2 + (Xk-Xj)**2\n",
    "    Ke[1, 1] = (Yk-Yi)**2 + (Xi-Xk)**2\n",
    "    Ke[2, 2] = (Yi-Yj)**2 + (Xj-Xi)**2\n",
    "    Ke[0, 1] = (Yj-Yk)*(Yk-Yi) + (Xk-Xj)*(Xi-Xk)\n",
    "    Ke[1, 0] = Ke[0, 1] # Por simetria\n",
    "    Ke[0, 2] = (Yj-Yk)*(Yi-Yj)+(Xk-Xj)*(Xj-Xi)\n",
    "    Ke[2, 0] = Ke[0, 2] # Por simetria\n",
    "    Ke[1, 2] = (Yk-Yi)*(Yi-Yj)+(Xi-Xk)*(Xj-Xi)\n",
    "    Ke[2, 1] = Ke[1, 2] # Por simetria\n",
    "\n",
    "    Ke = (Conduc*Espesor)/(4*A)*Ke\n",
    "\n",
    "    # Calculo Kg y Cg\n",
    "    n, m, l = MC[i, :]\n",
    "    aux = np.array([n, m, l]) # Indices\n",
    "    Kg[np.ix_(aux, aux)] += Ke\n",
    "    Cg[np.ix_(aux, aux)] += (1/6)*Ce*Cesp*Densidad*Espesor*A"
   ]
  },
  {
   "cell_type": "markdown",
   "id": "bd55c135-ced4-47bc-95be-a4193ddbf4e7",
   "metadata": {},
   "source": [
    "#### Condiciones de contorno"
   ]
  },
  {
   "cell_type": "code",
   "execution_count": 15,
   "id": "cd490749-9b6e-4165-a0ef-9c521f491837",
   "metadata": {},
   "outputs": [],
   "source": [
    "n_Templado = gmsh.model.mesh.get_nodes_for_physical_group(1,Templado)\n",
    "S = n_Templado[0].astype(int)-1 # Los nodos en el extremo templano tendran una T fija\n",
    "R = np.array([i for i in range(n_nodos) if i not in S]) # Complemento de S"
   ]
  },
  {
   "cell_type": "markdown",
   "id": "f11fd1ca-e331-4509-95e4-c11d6e07006b",
   "metadata": {},
   "source": [
    "#### Solución"
   ]
  },
  {
   "cell_type": "code",
   "execution_count": 16,
   "id": "73135a64-081a-4388-82af-4333c1b836c4",
   "metadata": {},
   "outputs": [],
   "source": [
    "To = np.zeros((len(MN),1)) # To contendra las temperaturas iniciales de todos los nodos\n",
    "To[S] = Ttemple # Los nodos del extremo templado tendran una T fija igual a la de temple\n",
    "To[R] = Tprob # El resto de los nodos empezara con una T igual al de la probeta salida del horno\n",
    "tmax = 250 #600 # Tiempo maximo a evaluar\n",
    "dt = 0.005 # Tiempo entre calculos\n",
    "n = int(tmax/dt)\n",
    "MT = np.zeros((n,len(MN)))   # Matriz de temperaturas de todos los nodos a lo largo del tiempo\n",
    "MT[0, :] = To.reshape(1, -1)\n",
    "for i in range(n-1):\n",
    "    # Calculo la teperatura para el siguiente tiempo\n",
    "    aux = np.dot(Kg[np.ix_(R, R)], To[R])+np.dot(Kg[np.ix_(R, S)], To[S])\n",
    "    Tnext = To[R]-dt*(np.dot(np.linalg.inv(Cg[np.ix_(R, R)]), aux))\n",
    "    \n",
    "    # Completo en la matriz de temperaturas\n",
    "    MT[i+1, [S]] = To[S].reshape(1, -1)\n",
    "    MT[i+1, [R]] = Tnext.reshape(1, -1)\n",
    "    \n",
    "    # Mi nuevo To sera la ultima temperatura calculada para cada nodo\n",
    "    To = MT[i+1, :]"
   ]
  },
  {
   "cell_type": "markdown",
   "id": "4293a1ac-dbaf-4ae3-865d-e5e4ec93968a",
   "metadata": {},
   "source": [
    "#### Grafico la evolución de la temperatura para ciertas distancias de la probeta"
   ]
  },
  {
   "cell_type": "code",
   "execution_count": 17,
   "id": "de5dca6d-8ffa-4be6-872a-998a79663506",
   "metadata": {},
   "outputs": [
    {
     "data": {
      "text/plain": [
       "<matplotlib.legend.Legend at 0x29c1e823340>"
      ]
     },
     "execution_count": 17,
     "metadata": {},
     "output_type": "execute_result"
    },
    {
     "data": {
      "image/png": "[encoded data removed]",
      "text/plain": [
       "<Figure size 720x360 with 1 Axes>"
      ]
     },
     "metadata": {
      "needs_background": "light"
     },
     "output_type": "display_data"
    }
   ],
   "source": [
    "#Son Distancias de referencia en los extremos y centro de la probeta\n",
    "T1=MT[:,0]\n",
    "T2=MT[:,40]\n",
    "T3=MT[:,70]\n",
    "T4=MT[:,4]\n",
    "t=np.arange(len(T1))*dt\n",
    "\n",
    "plt.ion()\n",
    "plt.plot(t, T1, t, T2, t, T3, t, T4)\n",
    "plt.title(\"Temperatura Vs. Tiempo\",fontsize=18)\n",
    "plt.xlabel(\"Tiempo [s]\",fontsize=18)   \n",
    "plt.ylabel(\"Temperatura [°C]\",fontsize=18) \n",
    "plt.legend([str(round(MN[0][0]*1000, 2))+' mm', str(round(MN[40][0]*1000,2))+' mm', str(round(MN[70][0]*1000,2))+' mm', str(round(MN[4][0]*1000,2))+' mm'],bbox_to_anchor=(0.5, 0.5), loc='best',fontsize=18)\n"
   ]
  },
  {
   "cell_type": "markdown",
   "id": "eab668e7-f5c0-47be-8eb0-b4671260806e",
   "metadata": {},
   "source": [
    "#### Vista en gmsh"
   ]
  },
  {
   "cell_type": "code",
   "execution_count": 18,
   "id": "5e1b1fd1-7113-472a-be2b-b02c2b04fb27",
   "metadata": {},
   "outputs": [],
   "source": [
    "# Calculo la temperatura de cada elemento a lo largo del tiempo\n",
    "MET = np.zeros([len(MT[:, 0]), n_element]) # Matriz de T de los elementos a lo largo del tiempo\n",
    "for i in range(len(MT[:, 0])): # Como tengo la T en los nodos, calculo un aproximado de la T de los elementos promediando\n",
    "    for j in range(n_element):\n",
    "        n, m, l = MC[j, :]\n",
    "        MET[i, j] = (MT[i, n]+MT[i, m]+MT[i, l])/3"
   ]
  },
  {
   "cell_type": "code",
   "execution_count": 19,
   "id": "36441b48-7686-4671-82d5-09909b3140d1",
   "metadata": {},
   "outputs": [],
   "source": [
    "# Grafico la distribución de la temperatura para el tiempo deseado (indicarlo en el número de fila de la matriz MET)\n",
    "temp = gmsh.view.add('Temperatura (°C)')\n",
    "TEMP = gmsh.view.addModelData(temp, 0, 'Final', 'ElementData', E_etiq, MET[1, :].reshape([-1, 1]), numComponents=1)\n",
    "\n",
    "#Actualizo y grafico\n",
    "gmsh.model.geo.synchronize()\n",
    "gmsh.fltk.run()"
   ]
  },
  {
   "cell_type": "markdown",
   "id": "9b95a46b-9b89-46b5-876b-391dbb2c5ee4",
   "metadata": {},
   "source": [
    "##### Imagenes del gmsh para diferentes tiempos"
   ]
  },
  {
   "cell_type": "markdown",
   "id": "78ef3268-3254-4f34-8a9c-592c1a6ee709",
   "metadata": {},
   "source": [
    "Distribución de temperatura en la probeta a los $ 0.1 segundos $\n",
    "<center><img src=\"Probeta_0.1s.png\"></center>"
   ]
  },
  {
   "cell_type": "markdown",
   "id": "70fc03e9-7c10-459e-9e03-48274491872a",
   "metadata": {},
   "source": [
    "Distribución de temperatura en la probeta a los $ 0.5 segundos $\n",
    "<center><img src=\"Probeta_0.5s.png\"></center>"
   ]
  },
  {
   "cell_type": "markdown",
   "id": "d7a45c20-af84-4b37-94b7-f0b705856fdb",
   "metadata": {},
   "source": [
    "Distribución de temperatura en la probeta a los $ 1 segundos $\n",
    "<center><img src=\"Probeta_1s.png\"></center>"
   ]
  },
  {
   "cell_type": "markdown",
   "id": "0eb217e1-b83e-4dab-ab0d-5907d8c25895",
   "metadata": {},
   "source": [
    "Distribución de temperatura en la probeta a los $ 2 segundos $\n",
    "<center><img src=\"Probeta_2.5s.png\"></center>"
   ]
  },
  {
   "cell_type": "markdown",
   "id": "58c4cce0-6930-429e-8376-eefff239d323",
   "metadata": {},
   "source": [
    "Distribución de temperatura en la probeta a los $ 5 segundos $\n",
    "<center><img src=\"Probeta_5s.png\"></center>"
   ]
  },
  {
   "cell_type": "markdown",
   "id": "3c9be8fd-0936-43b9-bef1-83427bb186d2",
   "metadata": {},
   "source": [
    "Distribución de temperatura en la probeta a los $ 10 segundos $\n",
    "<center><img src=\"Probeta_10s.png\"></center>"
   ]
  },
  {
   "cell_type": "markdown",
   "id": "20a09086-0a2c-4eff-aeb2-0bf64a8a50e0",
   "metadata": {},
   "source": [
    "Distribución de temperatura en la probeta a los $ 25 segundos $\n",
    "<center><img src=\"Probeta_25s.png\"></center>"
   ]
  },
  {
   "cell_type": "markdown",
   "id": "1a743667-de31-4100-ba53-8a39e5236864",
   "metadata": {},
   "source": [
    "Distribución de temperatura en la probeta a los $ 50 segundos $\n",
    "<center><img src=\"Probeta_50s.png\"></center>"
   ]
  },
  {
   "cell_type": "markdown",
   "id": "573b9bf1-2aa7-467a-b9c8-cfd51feed9af",
   "metadata": {},
   "source": [
    "Distribución de temperatura en la probeta a los $ 100 segundos $\n",
    "<center><img src=\"Probeta_100s.png\"></center>"
   ]
  },
  {
   "cell_type": "markdown",
   "id": "87b0b649-b23a-4d8c-8f08-e1389b5e04a1",
   "metadata": {},
   "source": [
    "Distribución de temperatura en la probeta a los $ 200 segundos $\n",
    "<center><img src=\"Probeta_200s.png\"></center>"
   ]
  },
  {
   "cell_type": "markdown",
   "id": "52bcd32c-7951-4873-99e0-60947bd322f8",
   "metadata": {},
   "source": [
    "Distribución de temperatura en la probeta a los $ 400 segundos $\n",
    "<center><img src=\"Probeta_400s.png\"></center>"
   ]
  },
  {
   "cell_type": "markdown",
   "id": "ab7017b0-e828-4d7a-b909-c71444fa66f3",
   "metadata": {},
   "source": [
    "Distribución de temperatura en la probeta a los $ 600 segundos $\n",
    "<center><img src=\"Probeta_600s.png\"></center>"
   ]
  }
 ],
 "metadata": {
  "kernelspec": {
   "display_name": "Python 3 (ipykernel)",
   "language": "python",
   "name": "python3"
  },
  "language_info": {
   "codemirror_mode": {
    "name": "ipython",
    "version": 3
   },
   "file_extension": ".py",
   "mimetype": "text/x-python",
   "name": "python",
   "nbconvert_exporter": "python",
   "pygments_lexer": "ipython3",
   "version": "3.9.10"
  }
 },
 "nbformat": 4,
 "nbformat_minor": 5
}
