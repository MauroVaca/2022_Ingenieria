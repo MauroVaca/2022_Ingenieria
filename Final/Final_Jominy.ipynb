{
 "cells": [
  {
   "cell_type": "code",
   "execution_count": 1,
   "id": "c593c4bb",
   "metadata": {},
   "outputs": [],
   "source": [
    "# Importo las librerías Necesarias \n",
    "import numpy as np # Importo algebra Lineal\n",
    "import matplotlib.pyplot as plt # Importo librería de gráficos\n",
    "import math\n",
    "import gmsh #Importo gmsh\n",
    "from scipy import linalg\n",
    "plt.rc('figure', figsize=(10,5))   # Para gráficos\n",
    "plt.rc('font', size=15)             # Para gráficos"
   ]
  },
  {
   "cell_type": "markdown",
   "id": "68db3fd2",
   "metadata": {},
   "source": [
    "### Desarrollo"
   ]
  },
  {
   "cell_type": "markdown",
   "id": "687a8c09",
   "metadata": {},
   "source": [
    "#### Armo modelo"
   ]
  },
  {
   "cell_type": "code",
   "execution_count": 2,
   "id": "dafce4f0",
   "metadata": {},
   "outputs": [],
   "source": [
    "gmsh.initialize() # Inicio el gmsh"
   ]
  },
  {
   "cell_type": "code",
   "execution_count": 3,
   "id": "69829289",
   "metadata": {},
   "outputs": [],
   "source": [
    "gmsh.model.add('Final') # Nombro el modelo"
   ]
  },
  {
   "cell_type": "code",
   "execution_count": 4,
   "id": "d036cb6a",
   "metadata": {},
   "outputs": [],
   "source": [
    "#Datos\n",
    "\n",
    "L = 0.1 #m\n",
    "rmax = 0.032 #m\n",
    "rmin = 0.025 #m\n",
    "pestaña = 0.003 #m\n",
    "Conduc = 187.25 #W/m°C Conductividad\n",
    "Cesp = 477 #J/kg°C  Calor especifico\n",
    "Densidad = 7850 #kg/m^3  Densidad del acero\n",
    "Espesor = 0.0001 #m\n",
    "Tprob = 900 #°C Temperatura de la probeta a la salida del horno\n",
    "Ttemple = 25 #°C Temperatura del agua de temple\n",
    "\n",
    "#Densidad de triangulos en el modelo\n",
    "lc = 0.002 #0.001"
   ]
  },
  {
   "cell_type": "code",
   "execution_count": 5,
   "id": "468c7359",
   "metadata": {},
   "outputs": [],
   "source": [
    "# Definimos las coordenadas de los puntos\n",
    "\n",
    "p1 = gmsh.model.geo.addPoint(       0,      0, 0, lc)\n",
    "p2 = gmsh.model.geo.addPoint(       0, rmax/2, 0, lc)\n",
    "p3 = gmsh.model.geo.addPoint( pestaña, rmax/2, 0, lc)\n",
    "p4 = gmsh.model.geo.addPoint( pestaña, rmin/2, 0, lc)\n",
    "p5 = gmsh.model.geo.addPoint(       L, rmin/2, 0, lc)\n",
    "p6 = gmsh.model.geo.addPoint(       L,      0, 0, lc)"
   ]
  },
  {
   "cell_type": "code",
   "execution_count": 6,
   "id": "a4d339ec",
   "metadata": {},
   "outputs": [],
   "source": [
    "# Definimos las lineas\n",
    "\n",
    "l1 = gmsh.model.geo.addLine(p1, p2)\n",
    "l2 = gmsh.model.geo.addLine(p2, p3)\n",
    "l3 = gmsh.model.geo.addLine(p3, p4)\n",
    "l4 = gmsh.model.geo.addLine(p4, p5)\n",
    "l5 = gmsh.model.geo.addLine(p5, p6)\n",
    "l6 = gmsh.model.geo.addLine(p6, p1)"
   ]
  },
  {
   "cell_type": "code",
   "execution_count": 7,
   "id": "13904227",
   "metadata": {},
   "outputs": [],
   "source": [
    "# Las curvas nos van a servir para definir los bordes de nuestro modelo\n",
    "C1 = gmsh.model.geo.addCurveLoop([l1, l2, l3, l4, l5, l6])\n",
    "\n",
    "# y la superficie\n",
    "S1 = gmsh.model.geo.addPlaneSurface([C1])"
   ]
  },
  {
   "cell_type": "code",
   "execution_count": 8,
   "id": "ecd87827",
   "metadata": {},
   "outputs": [],
   "source": [
    "gmsh.model.geo.synchronize()"
   ]
  },
  {
   "cell_type": "code",
   "execution_count": 9,
   "id": "3271de00",
   "metadata": {},
   "outputs": [
    {
     "name": "stdout",
     "output_type": "stream",
     "text": [
      "Info    : Meshing 1D...\n",
      "Info    : [  0%] Meshing curve 1 (Line)\n",
      "Info    : [ 20%] Meshing curve 2 (Line)\n",
      "Info    : [ 40%] Meshing curve 3 (Line)\n",
      "Info    : [ 50%] Meshing curve 4 (Line)\n",
      "Info    : [ 70%] Meshing curve 5 (Line)\n",
      "Info    : [ 90%] Meshing curve 6 (Line)\n",
      "Info    : Done meshing 1D (Wall 0.000447699s, CPU 0s)\n",
      "Info    : Meshing 2D...\n",
      "Info    : Meshing surface 1 (Plane, Frontal-Delaunay)\n",
      "Info    : Done meshing 2D (Wall 0.0110636s, CPU 0.030966s)\n",
      "Info    : 460 nodes 924 elements\n"
     ]
    }
   ],
   "source": [
    "# Defino los grupos fisicos\n",
    "Templado=gmsh.model.addPhysicalGroup(1,[l5])\n",
    "gmsh.model.setPhysicalName(1, Templado, 'Templado')\n",
    "\n",
    "Superficie = gmsh.model.addPhysicalGroup(2,[S1])\n",
    "gmsh.model.setPhysicalName(2,Superficie, 'Superficie')\n",
    "gmsh.model.mesh.generate(2)"
   ]
  },
  {
   "cell_type": "code",
   "execution_count": 10,
   "id": "749db3e9",
   "metadata": {},
   "outputs": [
    {
     "name": "stdout",
     "output_type": "stream",
     "text": [
      "Info    : Meshing 2D...\n",
      "Info    : Meshing surface 1 (Plane, Frontal-Delaunay)\n",
      "Info    : Done meshing 2D (Wall 0.0078082s, CPU 0.008456s)\n",
      "Info    : 460 nodes 924 elements\n"
     ]
    }
   ],
   "source": [
    "# Generamos el mallado\n",
    "gmsh.model.mesh.generate(2) # el 2 indica la dimensión"
   ]
  },
  {
   "cell_type": "code",
   "execution_count": 11,
   "id": "f69e84ea",
   "metadata": {},
   "outputs": [
    {
     "name": "stdout",
     "output_type": "stream",
     "text": [
      "-------------------------------------------------------\n",
      "Version       : 4.10.5\n",
      "License       : GNU General Public License\n",
      "Build OS      : Linux64-sdk\n",
      "Build date    : 20220701\n",
      "Build host    : gmsh.info\n",
      "Build options : 64Bit ALGLIB[contrib] ANN[contrib] Bamg Blas[petsc] Blossom Cgns DIntegration Dlopen DomHex Eigen[contrib] Fltk Gmm[contrib] Hxt Jpeg Kbipack Lapack[petsc] LinuxJoystick MathEx[contrib] Med Mesh Metis[contrib] Mmg Mpeg Netgen ONELAB ONELABMetamodel OpenCASCADE OpenCASCADE-CAF OpenGL OpenMP OptHom PETSc Parser Plugins Png Post QuadMeshingTools QuadTri Solver TetGen/BR Voro++[contrib] WinslowUntangler Zlib\n",
      "FLTK version  : 1.4.0\n",
      "PETSc version : 3.14.4 (real arithmtic)\n",
      "OCC version   : 7.6.1\n",
      "MED version   : 4.1.0\n",
      "Packaged by   : geuzaine\n",
      "Web site      : https://gmsh.info\n",
      "Issue tracker : https://gitlab.onelab.info/gmsh/gmsh/issues\n",
      "-------------------------------------------------------\n"
     ]
    }
   ],
   "source": [
    "# Vista del mallado\n",
    "gmsh.fltk.run()"
   ]
  },
  {
   "cell_type": "markdown",
   "id": "28b423d9",
   "metadata": {},
   "source": [
    "#### Selección de datos"
   ]
  },
  {
   "cell_type": "code",
   "execution_count": 12,
   "id": "81f2ac9e",
   "metadata": {},
   "outputs": [],
   "source": [
    "# Obtengo información sobre los nodos del mallado\n",
    "\n",
    "NodeInfo = gmsh.model.mesh.get_nodes() # Información de los nodos\n",
    "n_nodos = NodeInfo[0].shape[0] # Cantidad de nodos\n",
    "MN = NodeInfo[1].reshape(n_nodos, 3) # Matriz de nodos (con eje Z)"
   ]
  },
  {
   "cell_type": "code",
   "execution_count": 13,
   "id": "6ce84b65",
   "metadata": {},
   "outputs": [],
   "source": [
    "# Obtengo información sobre los elementos del mallado\n",
    "\n",
    "E_etiq, Elementos = gmsh.model.mesh.get_elements_by_type(2) #El 2 es por elementos del tipo 2 (superficiales)\n",
    "n_element = E_etiq.shape[0] # Cantidad de elementos\n",
    "n_nxe = 3 #Número de nodos por elemento\n",
    "MC = Elementos.reshape(n_element, n_nxe) # Matriz de conectividad\n",
    "MC = MC - np.ones([n_element, n_nxe]) # Resto 1 para acomodar a lenguaje PYTHON.\n",
    "MC = MC.astype(int) # Los cambio a dato tipo integer"
   ]
  },
  {
   "cell_type": "markdown",
   "id": "4907ad61",
   "metadata": {},
   "source": [
    "#### Armado de matrices"
   ]
  },
  {
   "cell_type": "code",
   "execution_count": 14,
   "id": "6fac99f6",
   "metadata": {},
   "outputs": [],
   "source": [
    "Ke = np.zeros((n_nxe, n_nxe)) # Matriz de rigidez elemental\n",
    "Kg = np.zeros([len(MN), len(MN)]) # Matriz de rigidez global\n",
    "Ce = np.array([[2, 1, 1], # Matriz de capacitancia elemental\n",
    "               [1, 2, 1],\n",
    "               [1, 1, 2]]) \n",
    "Cg = np.zeros([len(MN), len(MN)]) # Matriz de capacitancia global\n",
    "for i in range(len(MC)):\n",
    "    \n",
    "    # Calculo matriz A\n",
    "    Xi = MN[MC[i, 0], 0]\n",
    "    Yi = MN[MC[i, 0], 1]\n",
    "    Xj = MN[MC[i, 1], 0]\n",
    "    Yj = MN[MC[i, 1], 1]\n",
    "    Xk = MN[MC[i, 2], 0]\n",
    "    Yk = MN[MC[i, 2], 1]\n",
    "    A = np.abs((1/2)*np.linalg.det([[1, Xi, Yi],\n",
    "                                    [1, Xj, Yj],\n",
    "                                    [1, Xk, Yk]]))\n",
    "    \n",
    "    # Calculo Ke\n",
    "    Ke[0, 0] = (Yj-Yk)**2 + (Xk-Xj)**2\n",
    "    Ke[1, 1] = (Yk-Yi)**2 + (Xi-Xk)**2\n",
    "    Ke[2, 2] = (Yi-Yj)**2 + (Xj-Xi)**2\n",
    "    Ke[0, 1] = (Yj-Yk)*(Yk-Yi) + (Xk-Xj)*(Xi-Xk)\n",
    "    Ke[1, 0] = Ke[0, 1] # Por simetria\n",
    "    Ke[0, 2] = (Yj-Yk)*(Yi-Yj)+(Xk-Xj)*(Xj-Xi)\n",
    "    Ke[2, 0] = Ke[0, 2] # Por simetria\n",
    "    Ke[1, 2] = (Yk-Yi)*(Yi-Yj)+(Xi-Xk)*(Xj-Xi)\n",
    "    Ke[2, 1] = Ke[1, 2] # Por simetria\n",
    "\n",
    "    Ke = (Conduc*Espesor)/(4*A)*Ke\n",
    "\n",
    "    # Calculo Kg y Cg\n",
    "    n, m, l = MC[i, :]\n",
    "    aux = np.array([n, m, l]) # Indices\n",
    "    Kg[np.ix_(aux, aux)] += Ke\n",
    "    Cg[np.ix_(aux, aux)] += (1/6)*Ce*Cesp*Densidad*Espesor*A"
   ]
  },
  {
   "cell_type": "markdown",
   "id": "abb172ec",
   "metadata": {},
   "source": [
    "#### Condiciones de contorno"
   ]
  },
  {
   "cell_type": "code",
   "execution_count": 15,
   "id": "de588714",
   "metadata": {},
   "outputs": [],
   "source": [
    "n_Templado = gmsh.model.mesh.get_nodes_for_physical_group(1,Templado)\n",
    "S = n_Templado[0].astype(int)-1 # Los nodos en el extremo templano tendran una T fija\n",
    "R = np.array([i for i in range(n_nodos) if i not in S]) # Complemento de S"
   ]
  },
  {
   "cell_type": "markdown",
   "id": "bff76b58",
   "metadata": {},
   "source": [
    "#### Solución"
   ]
  },
  {
   "cell_type": "code",
   "execution_count": 16,
   "id": "e88d2c46",
   "metadata": {},
   "outputs": [],
   "source": [
    "from tqdm.auto import tqdm"
   ]
  },
  {
   "cell_type": "code",
   "execution_count": 17,
   "id": "a3514e25",
   "metadata": {},
   "outputs": [
    {
     "data": {
      "application/vnd.jupyter.widget-view+json": {
       "model_id": "b413c3a456414337a5f53a1af2e80a3f",
       "version_major": 2,
       "version_minor": 0
      },
      "text/plain": [
       "  0%|          | 0/1999 [00:00<?, ?it/s]"
      ]
     },
     "metadata": {},
     "output_type": "display_data"
    }
   ],
   "source": [
    "To = np.zeros((len(MN),1)) # To contendra las temperaturas iniciales de todos los nodos\n",
    "To[S] = Ttemple # Los nodos del extremo templado tendran una T fija igual a la de temple\n",
    "To[R] = Tprob # El resto de los nodos empezara con una T igual al de la probeta salida del horno\n",
    "tmax = 10# 250 #600 # Tiempo maximo a evaluar mdfcomment: no puedo esperar tanto, tengo sueño.\n",
    "dt = 0.005 # Tiempo entre calculos\n",
    "n = int(tmax/dt)\n",
    "MT = np.zeros((n,len(MN)))   # Matriz de temperaturas de todos los nodos a lo largo del tiempo\n",
    "MT[0, :] = To.reshape(1, -1)\n",
    "progress = tqdm(range(n-1))\n",
    "for i in progress: #range(n-1):\n",
    "    # Calculo la teperatura para el siguiente tiempo\n",
    "    aux = np.dot(Kg[np.ix_(R, R)], To[R])+np.dot(Kg[np.ix_(R, S)], To[S])\n",
    "    Tnext = To[R]-dt*(np.dot(np.linalg.inv(Cg[np.ix_(R, R)]), aux))\n",
    "    \n",
    "    # Completo en la matriz de temperaturas\n",
    "    MT[i+1, [S]] = To[S].reshape(1, -1)\n",
    "    MT[i+1, [R]] = Tnext.reshape(1, -1)\n",
    "    \n",
    "    # Mi nuevo To sera la ultima temperatura calculada para cada nodo\n",
    "    To = MT[i+1, :]"
   ]
  },
  {
   "cell_type": "markdown",
   "id": "331b57e7",
   "metadata": {},
   "source": [
    "#### Grafico la evolución de la temperatura para ciertas distancias de la probeta"
   ]
  },
  {
   "cell_type": "code",
   "execution_count": 18,
   "id": "65ccb371",
   "metadata": {},
   "outputs": [
    {
     "data": {
      "text/plain": [
       "<matplotlib.legend.Legend at 0x7f26542bb4f0>"
      ]
     },
     "execution_count": 18,
     "metadata": {},
     "output_type": "execute_result"
    },
    {
     "data": {
      "image/png": "[encoded data removed]",
      "text/plain": [
       "<Figure size 720x360 with 1 Axes>"
      ]
     },
     "metadata": {
      "needs_background": "light"
     },
     "output_type": "display_data"
    }
   ],
   "source": [
    "#Son Distancias de referencia en los extremos y centro de la probeta\n",
    "T1=MT[:,0]\n",
    "T2=MT[:,40]\n",
    "T3=MT[:,70]\n",
    "T4=MT[:,4]\n",
    "t=np.arange(len(T1))*dt\n",
    "\n",
    "plt.ion()\n",
    "plt.plot(t, T1, t, T2, t, T3, t, T4)\n",
    "plt.title(\"Temperatura Vs. Tiempo\",fontsize=18)\n",
    "plt.xlabel(\"Tiempo [s]\",fontsize=18)   \n",
    "plt.ylabel(\"Temperatura [°C]\",fontsize=18) \n",
    "plt.legend([str(round(MN[0][0]*1000, 2))+' mm', str(round(MN[40][0]*1000,2))+' mm', str(round(MN[70][0]*1000,2))+' mm', str(round(MN[4][0]*1000,2))+' mm'],bbox_to_anchor=(0.5, 0.5), loc='best',fontsize=18)\n"
   ]
  },
  {
   "cell_type": "markdown",
   "id": "0d3db7c2",
   "metadata": {},
   "source": [
    "#### Vista en gmsh"
   ]
  },
  {
   "cell_type": "code",
   "execution_count": 19,
   "id": "8b3a4230",
   "metadata": {},
   "outputs": [],
   "source": [
    "from tqdm.auto import tqdm"
   ]
  },
  {
   "cell_type": "code",
   "execution_count": 20,
   "id": "6621e7e6",
   "metadata": {},
   "outputs": [
    {
     "data": {
      "application/vnd.jupyter.widget-view+json": {
       "model_id": "3b6c8fcb34c44307bc109f9b940a36eb",
       "version_major": 2,
       "version_minor": 0
      },
      "text/plain": [
       "  0%|          | 0/2000 [00:00<?, ?it/s]"
      ]
     },
     "metadata": {},
     "output_type": "display_data"
    }
   ],
   "source": [
    "# Calculo la temperatura de cada elemento a lo largo del tiempo\n",
    "MET = np.zeros([len(MT[:, 0]), n_element]) # Matriz de T de los elementos a lo largo del tiempo\n",
    "progress = tqdm(range(len(MT[:,0])))\n",
    "for i in progress: #range(len(MT[:, 0])): # Como tengo la T en los nodos, calculo un aproximado de la T de los elementos promediando\n",
    "    for j in range(n_element):\n",
    "        n, m, l = MC[j, :]\n",
    "        MET[i, j] = (MT[i, n]+MT[i, m]+MT[i, l])/3"
   ]
  },
  {
   "cell_type": "markdown",
   "id": "ff6f7aad",
   "metadata": {},
   "source": [
    "<div style=\"background:#999900\">y ahora para cada t, tenes que guardar un view con el t correspondiente,</div>"
   ]
  },
  {
   "cell_type": "code",
   "execution_count": 21,
   "id": "1e65fc26",
   "metadata": {},
   "outputs": [
    {
     "data": {
      "application/vnd.jupyter.widget-view+json": {
       "model_id": "eb74e9d16ea84f72a24acd5fdfc1f98b",
       "version_major": 2,
       "version_minor": 0
      },
      "text/plain": [
       "  0%|          | 0/2000 [00:00<?, ?it/s]"
      ]
     },
     "metadata": {},
     "output_type": "display_data"
    }
   ],
   "source": [
    "# Grafico la distribución de la temperatura para el tiempo deseado (indicarlo en el número de fila de la matriz MET)\n",
    "#temp = gmsh.view.add('Temperatura (°C)')\n",
    "TEMPE = []\n",
    "tempe = gmsh.view.add('Temperatura (°C) (Elementos)')\n",
    "progress = tqdm(enumerate(MET), total=len(MET))\n",
    "for i, TE in progress:\n",
    "    TEMPE.append(\n",
    "        gmsh.view.addModelData(tempe, i, 'Final', 'ElementData', E_etiq, TE.reshape([-1,1]), time=dt*i, numComponents=1)\n",
    "        )\n",
    "\n"
   ]
  },
  {
   "cell_type": "markdown",
   "id": "6d4500b0",
   "metadata": {},
   "source": [
    "<div style=\"background:#999900\"> pero el resultado que tenes es por nodo !</div>"
   ]
  },
  {
   "cell_type": "code",
   "execution_count": 22,
   "id": "ce666abe",
   "metadata": {},
   "outputs": [],
   "source": [
    "TEMPN = []"
   ]
  },
  {
   "cell_type": "code",
   "execution_count": 23,
   "id": "2db2c2fe",
   "metadata": {},
   "outputs": [
    {
     "data": {
      "application/vnd.jupyter.widget-view+json": {
       "model_id": "77dcd9ed02c84fd6b8e4dcd08c293edd",
       "version_major": 2,
       "version_minor": 0
      },
      "text/plain": [
       "  0%|          | 0/2000 [00:00<?, ?it/s]"
      ]
     },
     "metadata": {},
     "output_type": "display_data"
    }
   ],
   "source": [
    "tempn = gmsh.view.add('Temperatura (°C) (nodos)')\n",
    "progress = tqdm(enumerate(MT), total=len(MT))\n",
    "for i, T in progress:\n",
    "    TEMPN.append(\n",
    "        gmsh.view.addModelData(tempn, i, 'Final', 'NodeData', NodeInfo[0], T.reshape([-1, 1]), time = dt*i, numComponents=1) \n",
    "    )"
   ]
  },
  {
   "cell_type": "code",
   "execution_count": 24,
   "id": "54dceeed",
   "metadata": {},
   "outputs": [],
   "source": [
    "#Actualizo y grafico\n",
    "gmsh.model.geo.synchronize()\n",
    "gmsh.view.write(tempn, 'temperaturasnodales.msh')\n",
    "gmsh.view.write(tempe, 'temperaturasnodales.msh')"
   ]
  },
  {
   "cell_type": "code",
   "execution_count": 40,
   "id": "bb5dfa83",
   "metadata": {},
   "outputs": [
    {
     "name": "stdout",
     "output_type": "stream",
     "text": [
      "-------------------------------------------------------\n",
      "Version       : 4.10.5\n",
      "License       : GNU General Public License\n",
      "Build OS      : Linux64-sdk\n",
      "Build date    : 20220701\n",
      "Build host    : gmsh.info\n",
      "Build options : 64Bit ALGLIB[contrib] ANN[contrib] Bamg Blas[petsc] Blossom Cgns DIntegration Dlopen DomHex Eigen[contrib] Fltk Gmm[contrib] Hxt Jpeg Kbipack Lapack[petsc] LinuxJoystick MathEx[contrib] Med Mesh Metis[contrib] Mmg Mpeg Netgen ONELAB ONELABMetamodel OpenCASCADE OpenCASCADE-CAF OpenGL OpenMP OptHom PETSc Parser Plugins Png Post QuadMeshingTools QuadTri Solver TetGen/BR Voro++[contrib] WinslowUntangler Zlib\n",
      "FLTK version  : 1.4.0\n",
      "PETSc version : 3.14.4 (real arithmtic)\n",
      "OCC version   : 7.6.1\n",
      "MED version   : 4.1.0\n",
      "Packaged by   : geuzaine\n",
      "Web site      : https://gmsh.info\n",
      "Issue tracker : https://gitlab.onelab.info/gmsh/gmsh/issues\n",
      "-------------------------------------------------------\n"
     ]
    },
    {
     "name": "stderr",
     "output_type": "stream",
     "text": [
      "Error   : Unknown output file format\n"
     ]
    },
    {
     "name": "stdout",
     "output_type": "stream",
     "text": [
      "Info    : Writing '.msh'...\n",
      "Info    : Done writing '.msh'\n"
     ]
    }
   ],
   "source": [
    "gmsh.fltk.run()"
   ]
  },
  {
   "cell_type": "code",
   "execution_count": 31,
   "id": "af9aaee8",
   "metadata": {},
   "outputs": [
    {
     "name": "stdout",
     "output_type": "stream",
     "text": [
      "Info    : Writing 'temperaturasnodales.gif'...\n",
      "Info    : Done writing 'temperaturasnodales.gif'\n"
     ]
    }
   ],
   "source": [
    "gmsh.view.write(tempn, 'temperaturasnodales.html')"
   ]
  },
  {
   "cell_type": "markdown",
   "id": "212fc6fc",
   "metadata": {},
   "source": [
    "##### Imagenes del gmsh para diferentes tiempos"
   ]
  },
  {
   "cell_type": "markdown",
   "id": "51fd11f1",
   "metadata": {},
   "source": [
    "Distribución de temperatura en la probeta a los $ 0.1 segundos $\n",
    "<center><img src=\"Probeta_0.1s.png\"></center>"
   ]
  },
  {
   "cell_type": "markdown",
   "id": "2f538725",
   "metadata": {},
   "source": [
    "Distribución de temperatura en la probeta a los $ 0.5 segundos $\n",
    "<center><img src=\"Probeta_0.5s.png\"></center>"
   ]
  },
  {
   "cell_type": "markdown",
   "id": "76a3b422",
   "metadata": {},
   "source": [
    "Distribución de temperatura en la probeta a los $ 1 segundos $\n",
    "<center><img src=\"Probeta_1s.png\"></center>"
   ]
  },
  {
   "cell_type": "markdown",
   "id": "6347e21f",
   "metadata": {},
   "source": [
    "Distribución de temperatura en la probeta a los $ 2 segundos $\n",
    "<center><img src=\"Probeta_2.5s.png\"></center>"
   ]
  },
  {
   "cell_type": "markdown",
   "id": "744f4522",
   "metadata": {},
   "source": [
    "Distribución de temperatura en la probeta a los $ 5 segundos $\n",
    "<center><img src=\"Probeta_5s.png\"></center>"
   ]
  },
  {
   "cell_type": "markdown",
   "id": "55114f32",
   "metadata": {},
   "source": [
    "Distribución de temperatura en la probeta a los $ 10 segundos $\n",
    "<center><img src=\"Probeta_10s.png\"></center>"
   ]
  },
  {
   "cell_type": "markdown",
   "id": "b8bd2f8e",
   "metadata": {},
   "source": [
    "Distribución de temperatura en la probeta a los $ 25 segundos $\n",
    "<center><img src=\"Probeta_25s.png\"></center>"
   ]
  },
  {
   "cell_type": "markdown",
   "id": "e929763f",
   "metadata": {},
   "source": [
    "Distribución de temperatura en la probeta a los $ 50 segundos $\n",
    "<center><img src=\"Probeta_50s.png\"></center>"
   ]
  },
  {
   "cell_type": "markdown",
   "id": "a060a80a",
   "metadata": {},
   "source": [
    "Distribución de temperatura en la probeta a los $ 100 segundos $\n",
    "<center><img src=\"Probeta_100s.png\"></center>"
   ]
  },
  {
   "cell_type": "markdown",
   "id": "d2569998",
   "metadata": {},
   "source": [
    "Distribución de temperatura en la probeta a los $ 200 segundos $\n",
    "<center><img src=\"Probeta_200s.png\"></center>"
   ]
  },
  {
   "cell_type": "markdown",
   "id": "cfffdc17",
   "metadata": {},
   "source": [
    "Distribución de temperatura en la probeta a los $ 400 segundos $\n",
    "<center><img src=\"Probeta_400s.png\"></center>"
   ]
  },
  {
   "cell_type": "markdown",
   "id": "1c05c782",
   "metadata": {},
   "source": [
    "Distribución de temperatura en la probeta a los $ 600 segundos $\n",
    "<center><img src=\"Probeta_600s.png\"></center>"
   ]
  }
 ],
 "metadata": {
  "kernelspec": {
   "display_name": "Python 3 (ipykernel)",
   "language": "python",
   "name": "python3"
  },
  "language_info": {
   "codemirror_mode": {
    "name": "ipython",
    "version": 3
   },
   "file_extension": ".py",
   "mimetype": "text/x-python",
   "name": "python",
   "nbconvert_exporter": "python",
   "pygments_lexer": "ipython3",
   "version": "3.9.12"
  }
 },
 "nbformat": 4,
 "nbformat_minor": 5
}
