{
 "cells": [
  {
   "cell_type": "code",
   "execution_count": 1,
   "id": "55ab0dba-0abd-49aa-b802-d77023dd65f7",
   "metadata": {},
   "outputs": [],
   "source": [
    "# Importo las librerías Necesarias \n",
    "import numpy as np  # Importo algebra Lineal\n",
    "import matplotlib.pyplot as plt # Importo librería de gráficos"
   ]
  },
  {
   "cell_type": "code",
   "execution_count": 2,
   "id": "c8fa7941-4d43-4c9c-917f-6ca64108cd89",
   "metadata": {},
   "outputs": [],
   "source": [
    "A=np.array([[1, -3, -2],[2, -4, -3],[-3, 6, 8]])\n",
    "b=np.array([[6], [8], [-5]])"
   ]
  },
  {
   "cell_type": "code",
   "execution_count": 3,
   "id": "a5c99598-dcaf-44ae-b27d-e86d6164e9e4",
   "metadata": {},
   "outputs": [
    {
     "name": "stdout",
     "output_type": "stream",
     "text": [
      "[[ 1 -3 -2]\n",
      " [ 2 -4 -3]\n",
      " [-3  6  8]]\n",
      "[[ 6]\n",
      " [ 8]\n",
      " [-5]]\n"
     ]
    }
   ],
   "source": [
    "print(A)\n",
    "print(b)"
   ]
  },
  {
   "cell_type": "code",
   "execution_count": 4,
   "id": "fdbe1c14-3a50-494c-8fba-e080fb12b18c",
   "metadata": {},
   "outputs": [
    {
     "name": "stdout",
     "output_type": "stream",
     "text": [
      "[[ 1.]\n",
      " [-3.]\n",
      " [ 2.]]\n"
     ]
    }
   ],
   "source": [
    "x=np.linalg.solve(A,b)\n",
    "print(x)"
   ]
  },
  {
   "cell_type": "code",
   "execution_count": 6,
   "id": "ab76a7f2-8218-4a64-8ab5-0be555ee806b",
   "metadata": {},
   "outputs": [
    {
     "data": {
      "text/plain": [
       "array([[ 6.],\n",
       "       [ 8.],\n",
       "       [-5.]])"
      ]
     },
     "execution_count": 6,
     "metadata": {},
     "output_type": "execute_result"
    }
   ],
   "source": [
    "A.dot(x)"
   ]
  },
  {
   "cell_type": "code",
   "execution_count": null,
   "id": "6781f87c-4e93-4e36-80f8-ccc8fa17233d",
   "metadata": {},
   "outputs": [],
   "source": []
  }
 ],
 "metadata": {
  "kernelspec": {
   "display_name": "Python 3 (ipykernel)",
   "language": "python",
   "name": "python3"
  },
  "language_info": {
   "codemirror_mode": {
    "name": "ipython",
    "version": 3
   },
   "file_extension": ".py",
   "mimetype": "text/x-python",
   "name": "python",
   "nbconvert_exporter": "python",
   "pygments_lexer": "ipython3",
   "version": "3.9.10"
  }
 },
 "nbformat": 4,
 "nbformat_minor": 5
}
