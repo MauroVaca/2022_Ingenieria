{
 "cells": [
  {
   "cell_type": "code",
   "execution_count": 1,
   "id": "61b72e68-b77e-4ea9-9840-9b9d6c7f204c",
   "metadata": {},
   "outputs": [],
   "source": [
    "import numpy as np\n",
    "A=np.array(\n",
    "    [\n",
    "        [1,-3,-2],\n",
    "        [2,-4,-3],\n",
    "        [-3,6,8]\n",
    "    ]\n",
    ")\n",
    "b=np.array([[6],[8],[-5]])\n",
    "\n"
   ]
  },
  {
   "cell_type": "code",
   "execution_count": 2,
   "id": "9a230ad1-83da-498f-afa1-a974055447ed",
   "metadata": {},
   "outputs": [
    {
     "name": "stdout",
     "output_type": "stream",
     "text": [
      "[[ 1 -3 -2]\n",
      " [ 2 -4 -3]\n",
      " [-3  6  8]]\n",
      "[[ 6]\n",
      " [ 8]\n",
      " [-5]]\n"
     ]
    }
   ],
   "source": [
    "print(A)\n",
    "print(b)"
   ]
  },
  {
   "cell_type": "code",
   "execution_count": 3,
   "id": "f1ff4f23-2e23-4f86-b5c1-b9306b6f4beb",
   "metadata": {},
   "outputs": [],
   "source": [
    "x=np.linalg.solve(A,b)"
   ]
  },
  {
   "cell_type": "code",
   "execution_count": 5,
   "id": "6b42cf7b-eed3-41cd-aab9-10232f9f303d",
   "metadata": {},
   "outputs": [
    {
     "name": "stdout",
     "output_type": "stream",
     "text": [
      "[[ 1.]\n",
      " [-3.]\n",
      " [ 2.]]\n"
     ]
    }
   ],
   "source": [
    "print(x)"
   ]
  },
  {
   "cell_type": "code",
   "execution_count": 8,
   "id": "0f04ae86-ebd4-46f7-ae54-6ac9033df9fa",
   "metadata": {},
   "outputs": [
    {
     "data": {
      "text/plain": [
       "array([[0.],\n",
       "       [0.],\n",
       "       [0.]])"
      ]
     },
     "execution_count": 8,
     "metadata": {},
     "output_type": "execute_result"
    }
   ],
   "source": [
    "A.dot(x)-b"
   ]
  },
  {
   "cell_type": "code",
   "execution_count": null,
   "id": "11d66829-a506-4de5-bbe5-bc368b8da38a",
   "metadata": {},
   "outputs": [],
   "source": []
  }
 ],
 "metadata": {
  "kernelspec": {
   "display_name": "Python 3 (ipykernel)",
   "language": "python",
   "name": "python3"
  },
  "language_info": {
   "codemirror_mode": {
    "name": "ipython",
    "version": 3
   },
   "file_extension": ".py",
   "mimetype": "text/x-python",
   "name": "python",
   "nbconvert_exporter": "python",
   "pygments_lexer": "ipython3",
   "version": "3.9.10"
  }
 },
 "nbformat": 4,
 "nbformat_minor": 5
}
