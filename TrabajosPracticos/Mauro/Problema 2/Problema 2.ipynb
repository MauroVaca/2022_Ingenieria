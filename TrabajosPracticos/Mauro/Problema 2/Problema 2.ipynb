{
 "cells": [
  {
   "cell_type": "code",
   "execution_count": 1,
   "id": "611dea8c-1937-4b3d-968b-e55a36e28638",
   "metadata": {},
   "outputs": [],
   "source": [
    "import numpy as np                # Librería de álgebra lineal\n",
    "import matplotlib.pyplot as plt   # Librería de gráficos\n",
    "import mef"
   ]
  },
  {
   "cell_type": "markdown",
   "id": "389977a9-62de-4f15-b37e-b9f0f6ce1565",
   "metadata": {},
   "source": [
    "# Problema 2"
   ]
  },
  {
   "cell_type": "markdown",
   "id": "798fc357-d9b9-4f5c-930e-11161d059ac2",
   "metadata": {},
   "source": [
    "Considere el entramado mostrado en la figura, con una fuerza aplicada de $20 kN$. Calcule los desplazamientos de cada uno de los nodos y las tensiones que sufre cada elemento. Todos los elementos tienen $E = 210 GPa$ y una sección de $10 cm^2$ , excepto el elemento 3, que tiene una sección de $20 cm^2$. Los elementos 2 y 5 tienen una longitud de 8 metros y el elemento 3 de  4 metros.\n",
    "\n",
    "<center><img src=\"Prob 2.png\"></center>\n"
   ]
  },
  {
   "cell_type": "markdown",
   "id": "9953316e-3113-4edc-932f-b18544309b28",
   "metadata": {},
   "source": [
    "### Datos"
   ]
  },
  {
   "cell_type": "code",
   "execution_count": 2,
   "id": "494ef8be-abcd-4d62-930f-a7b71928b265",
   "metadata": {},
   "outputs": [],
   "source": [
    "#Matriz de nodos\n",
    "MN = np.array([[0, 0], \n",
    "               [8, 0],\n",
    "               [16, 0],\n",
    "               [8, 4]])\n",
    "\n",
    "n_nodos = MN.shape[0]"
   ]
  },
  {
   "cell_type": "code",
   "execution_count": 3,
   "id": "a972ce5c-67dc-4a88-84eb-35c75b1cb6cc",
   "metadata": {},
   "outputs": [],
   "source": [
    "#Matriz de conectividad\n",
    "MC = np.array([[0, 3], \n",
    "               [0, 1],\n",
    "               [1, 3],\n",
    "               [2, 3],\n",
    "               [1, 2]])\n",
    "\n",
    "n_element = MC.shape[0]"
   ]
  },
  {
   "cell_type": "code",
   "execution_count": 4,
   "id": "3bd5bd09-46a6-431e-8971-ee46a4e99fd1",
   "metadata": {},
   "outputs": [],
   "source": [
    "#grados de libertad\n",
    "glxn = 2"
   ]
  },
  {
   "cell_type": "code",
   "execution_count": 5,
   "id": "ee6d20a1-1c87-484d-a771-8c157d195745",
   "metadata": {},
   "outputs": [],
   "source": [
    "E = 2.1E11*np.ones(5) #Modulo elastico\n",
    "A = np.array([10, 10, 20, 10, 10])*1E-4 #Área"
   ]
  },
  {
   "cell_type": "code",
   "execution_count": 6,
   "id": "e117eab3-f1b1-4697-9002-a50df9678abd",
   "metadata": {},
   "outputs": [],
   "source": [
    "#Condiciones de vinculo\n",
    "S = np.array([0, 1, 5])\n",
    "US = np.array([0, 0, 0]).reshape([-1, 1])\n",
    "\n",
    "R = np.array([2, 3, 4, 6, 7])\n",
    "FR = np.array([0, -20000, 0, 0, 0]).reshape([-1, 1])"
   ]
  },
  {
   "cell_type": "markdown",
   "id": "ff278771-5e86-4748-9a6e-5d8733adc29e",
   "metadata": {},
   "source": [
    "### Resolución"
   ]
  },
  {
   "cell_type": "code",
   "execution_count": 7,
   "id": "1a34650c-6dd0-4a83-ace5-c5d0f896568c",
   "metadata": {},
   "outputs": [],
   "source": [
    "K = mef.Kglobal(MN, MC, E, A, glxn)"
   ]
  },
  {
   "cell_type": "code",
   "execution_count": 8,
   "id": "c9709916-ec38-45c7-b537-c90675a75fff",
   "metadata": {},
   "outputs": [],
   "source": [
    "F, U = mef.solve(K, R, FR, S, US)"
   ]
  },
  {
   "cell_type": "code",
   "execution_count": 9,
   "id": "4ef3ea59-d00d-48c1-8a89-7f266bf0818c",
   "metadata": {},
   "outputs": [
    {
     "name": "stdout",
     "output_type": "stream",
     "text": [
      "\u001b[1m \u001b[12m    Nodo 1 \u001b[0m   Ux = 0.000 mm     Uy =  0.000 mm     Fx = 0.0 kN     Fy =  10.0 kN\n",
      "\u001b[1m \u001b[12m    Nodo 2 \u001b[0m   Ux = 0.762 mm     Uy = -3.844 mm     Fx = 0.0 kN     Fy = -20.0 kN\n",
      "\u001b[1m \u001b[12m    Nodo 3 \u001b[0m   Ux = 1.524 mm     Uy =  0.000 mm     Fx = 0.0 kN     Fy =  10.0 kN\n",
      "\u001b[1m \u001b[12m    Nodo 4 \u001b[0m   Ux = 0.762 mm     Uy = -3.653 mm     Fx = 0.0 kN     Fy =   0.0 kN\n"
     ]
    }
   ],
   "source": [
    "for nodo in range(n_nodos):\n",
    "    print('\\033[1m \\033[12m    Nodo %s \\033[0m   Ux = %2.3f mm     Uy = %6.3f mm     Fx = %3.1f kN     Fy = %5.1f kN'\n",
    "          %(nodo+1, U[2*nodo]*1000, U[2*nodo+1]*1000, F[2*nodo]/1000, F[2*nodo+1]/1000))\n"
   ]
  },
  {
   "cell_type": "markdown",
   "id": "3ab14f90-0bf2-4978-8d2e-3a2990751712",
   "metadata": {},
   "source": [
    "### Cálculo de las tensiones"
   ]
  },
  {
   "cell_type": "code",
   "execution_count": 10,
   "id": "fd61ffbc-6c29-4c9a-a548-c75b7ee2768d",
   "metadata": {},
   "outputs": [],
   "source": [
    "#Defino una matriz que me indique la posición final de los nodos, a partir de MN y U\n",
    "MN_f = U.reshape(n_nodos, 2)+MN"
   ]
  },
  {
   "cell_type": "code",
   "execution_count": 11,
   "id": "5a4bf82c-1aea-4f18-ba46-58f8b6106dda",
   "metadata": {},
   "outputs": [],
   "source": [
    "#Calculo la lonitud inicial y final de cada elemento\n",
    "Lo = np.zeros([n_element, 1])\n",
    "Lf = np.zeros([n_element, 1])\n",
    "\n",
    "for i in range(n_element):\n",
    "    n1 = MC[i, 0]\n",
    "    n2 = MC[i, 1]\n",
    "    Lo[i] = np.sqrt((MN[n1, 0]-MN[n2, 0])**2+(MN[n1, 1]-MN[n2, 1])**2)\n",
    "    Lf[i] = np.sqrt((MN_f[n1, 0]-MN_f[n2, 0])**2+(MN_f[n1, 1]-MN_f[n2, 1])**2)"
   ]
  },
  {
   "cell_type": "code",
   "execution_count": 12,
   "id": "d38b9392-c1dd-4479-b013-04904706b2bb",
   "metadata": {},
   "outputs": [],
   "source": [
    "#Calculo el delta_L de cada elemento\n",
    "delta_L = Lf-Lo"
   ]
  },
  {
   "cell_type": "code",
   "execution_count": 13,
   "id": "738873c1-8f20-4295-8be6-034b28d42767",
   "metadata": {},
   "outputs": [],
   "source": [
    "#Calculo la deforamción y la tensión de cada elemento\n",
    "epsi = np.zeros([n_element,1])\n",
    "sigma = np.zeros([n_element,1])\n",
    "for i in range(n_element):\n",
    "    epsi[i] = delta_L[i]/Lo[i]\n",
    "    sigma[i] = E[i]*epsi[i]"
   ]
  },
  {
   "cell_type": "code",
   "execution_count": 14,
   "id": "4fc6de67-343d-4e6a-9470-7709c7426ea9",
   "metadata": {},
   "outputs": [
    {
     "name": "stdout",
     "output_type": "stream",
     "text": [
      "\u001b[1m \u001b[12m    Elemento 1 \u001b[0m   Sigma = -22.344 MPa\n",
      "\u001b[1m \u001b[12m    Elemento 2 \u001b[0m   Sigma =  20.024 MPa\n",
      "\u001b[1m \u001b[12m    Elemento 3 \u001b[0m   Sigma =  10.000 MPa\n",
      "\u001b[1m \u001b[12m    Elemento 4 \u001b[0m   Sigma = -22.344 MPa\n",
      "\u001b[1m \u001b[12m    Elemento 5 \u001b[0m   Sigma =  20.024 MPa\n"
     ]
    }
   ],
   "source": [
    "for i in range(n_element):\n",
    "    print('\\033[1m \\033[12m    Elemento %s \\033[0m   Sigma = %7.3f MPa'%(i+1, sigma[i]/1E6))"
   ]
  }
 ],
 "metadata": {
  "kernelspec": {
   "display_name": "Python 3 (ipykernel)",
   "language": "python",
   "name": "python3"
  },
  "language_info": {
   "codemirror_mode": {
    "name": "ipython",
    "version": 3
   },
   "file_extension": ".py",
   "mimetype": "text/x-python",
   "name": "python",
   "nbconvert_exporter": "python",
   "pygments_lexer": "ipython3",
   "version": "3.9.10"
  }
 },
 "nbformat": 4,
 "nbformat_minor": 5
}
